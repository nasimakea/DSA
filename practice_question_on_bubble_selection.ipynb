{
  "nbformat": 4,
  "nbformat_minor": 0,
  "metadata": {
    "colab": {
      "provenance": []
    },
    "kernelspec": {
      "name": "python3",
      "display_name": "Python 3"
    },
    "language_info": {
      "name": "python"
    }
  },
  "cells": [
    {
      "cell_type": "code",
      "execution_count": 9,
      "metadata": {
        "id": "oVtKBqz42app"
      },
      "outputs": [],
      "source": [
        "arr=[64,34,25,12,22,11,90]\n",
        "for i in range(len(arr)):\n",
        "  for j in range(0,len(arr)-1-i):\n",
        "    if arr[j]>arr[j+1]:\n",
        "      arr[j],arr[j+1]=arr[j+1],arr[j]"
      ]
    },
    {
      "cell_type": "code",
      "source": [
        "arr"
      ],
      "metadata": {
        "colab": {
          "base_uri": "https://localhost:8080/"
        },
        "id": "aev5-dDq4Ulm",
        "outputId": "e7a72509-71b2-4b2a-bd34-766154458577"
      },
      "execution_count": 10,
      "outputs": [
        {
          "output_type": "execute_result",
          "data": {
            "text/plain": [
              "[11, 12, 22, 25, 34, 64, 90]"
            ]
          },
          "metadata": {},
          "execution_count": 10
        }
      ]
    },
    {
      "cell_type": "code",
      "source": [
        "arr = [64, 34, 25, 12, 22, 11, 90]\n",
        "n=len(arr)\n",
        "for i in range(len(arr)):\n",
        "  swapped=False\n",
        "  for j in range(0,n-i-1):\n",
        "    if arr[j]>arr[j+1]:\n",
        "      arr[j],arr[j+1]=arr[j+1],arr[j]\n",
        "      swapped=True\n",
        "\n",
        "  if not swapped :\n",
        "    break\n",
        "\n",
        "print(arr)"
      ],
      "metadata": {
        "colab": {
          "base_uri": "https://localhost:8080/"
        },
        "id": "cEzQSlAZ4aEV",
        "outputId": "9a00db28-fd0b-443d-e6e5-0c0b6a6b596d"
      },
      "execution_count": 12,
      "outputs": [
        {
          "output_type": "stream",
          "name": "stdout",
          "text": [
            "[11, 12, 22, 25, 34, 64, 90]\n"
          ]
        }
      ]
    },
    {
      "cell_type": "code",
      "source": [
        "arr=[34,60,300,200,100]\n",
        "n=len(arr)\n",
        "for i in range(n):\n",
        "  for j in range(0,n-i-1):\n",
        "    if arr[j]<arr[j+1]:\n",
        "      arr[j],arr[j+1]=arr[j+1],arr[j]\n",
        "\n",
        "print(arr)"
      ],
      "metadata": {
        "colab": {
          "base_uri": "https://localhost:8080/"
        },
        "id": "tKojNxjs6W5-",
        "outputId": "6c2564fd-0c93-4fc9-f290-46eb7003e025"
      },
      "execution_count": 14,
      "outputs": [
        {
          "output_type": "stream",
          "name": "stdout",
          "text": [
            "[300, 200, 100, 60, 34]\n"
          ]
        }
      ]
    },
    {
      "cell_type": "code",
      "source": [
        "arr=[90,80,70,60,50,40,30]\n",
        "for i in range(len(arr)):\n",
        "  for j in range(0,len(arr)-i-1):\n",
        "    if arr[j]>arr[j+1]:\n",
        "      arr[j],arr[j+1]=arr[j+1],arr[j]\n",
        "\n",
        "print(arr)"
      ],
      "metadata": {
        "colab": {
          "base_uri": "https://localhost:8080/"
        },
        "id": "QBpTmPhq7B7i",
        "outputId": "d00330e2-5975-4d34-8ebb-1abeafc273ae"
      },
      "execution_count": 15,
      "outputs": [
        {
          "output_type": "stream",
          "name": "stdout",
          "text": [
            "[30, 40, 50, 60, 70, 80, 90]\n"
          ]
        }
      ]
    },
    {
      "cell_type": "code",
      "source": [
        "arr=['apple','banana','cherry','date']\n",
        "for i in range(len(arr)):\n",
        "  for j in range(0,len(arr)-1-i):\n",
        "    if len(arr[j])>len(arr[j+1]):\n",
        "      arr[j],arr[j+1]=arr[j+1],arr[j]\n",
        "\n",
        "print(arr)"
      ],
      "metadata": {
        "colab": {
          "base_uri": "https://localhost:8080/"
        },
        "id": "1ka3_srz71Oh",
        "outputId": "4e6d8062-e20f-41b8-b34b-ccb7080a227c"
      },
      "execution_count": 16,
      "outputs": [
        {
          "output_type": "stream",
          "name": "stdout",
          "text": [
            "['date', 'apple', 'banana', 'cherry']\n"
          ]
        }
      ]
    },
    {
      "cell_type": "code",
      "source": [
        "def bubble_sort(arr):\n",
        "  n=len(arr)\n",
        "  for i in range(n):\n",
        "    for j in range(0,n-1-i):\n",
        "      if arr[j]>arr[j+1]:\n",
        "        arr[j],arr[j+1]=arr[j+1],arr[j]\n",
        "  return(arr)\n"
      ],
      "metadata": {
        "id": "m97VZCa98jvQ"
      },
      "execution_count": 17,
      "outputs": []
    },
    {
      "cell_type": "code",
      "source": [
        "arr=[23,34,100,500,70000,12,45,67,800]\n",
        "bubble_sort(arr)"
      ],
      "metadata": {
        "colab": {
          "base_uri": "https://localhost:8080/"
        },
        "id": "uoRsguhU_hn0",
        "outputId": "0e14daae-f504-4889-efd2-df26894dcd64"
      },
      "execution_count": 18,
      "outputs": [
        {
          "output_type": "execute_result",
          "data": {
            "text/plain": [
              "[12, 23, 34, 45, 67, 100, 500, 800, 70000]"
            ]
          },
          "metadata": {},
          "execution_count": 18
        }
      ]
    },
    {
      "cell_type": "code",
      "source": [],
      "metadata": {
        "id": "NB3FUYFn_rqQ"
      },
      "execution_count": null,
      "outputs": []
    },
    {
      "cell_type": "markdown",
      "source": [
        "# Selection sort\n"
      ],
      "metadata": {
        "id": "0BVC_2EW_2DO"
      }
    },
    {
      "cell_type": "code",
      "source": [
        "arr=[34,44,55,22,44,55,67,76,87,500,233,567,223,456,1000]\n",
        "for i in range(len(arr)):\n",
        "  min_ind=i\n",
        "  for j in range(i+1,len(arr)):\n",
        "    if arr[j]<arr[min_ind]:\n",
        "      min_ind=j\n",
        "\n",
        "  arr[i],arr[min_ind]=arr[min_ind],arr[i]\n"
      ],
      "metadata": {
        "id": "O-MCYiQI_4y8"
      },
      "execution_count": 19,
      "outputs": []
    },
    {
      "cell_type": "code",
      "source": [
        "arr"
      ],
      "metadata": {
        "colab": {
          "base_uri": "https://localhost:8080/"
        },
        "id": "nBmW_Sx7B11x",
        "outputId": "d6291af9-2f12-45aa-9ee3-eb56ea93ad9f"
      },
      "execution_count": 20,
      "outputs": [
        {
          "output_type": "execute_result",
          "data": {
            "text/plain": [
              "[22, 34, 44, 44, 55, 55, 67, 76, 87, 223, 233, 456, 500, 567, 1000]"
            ]
          },
          "metadata": {},
          "execution_count": 20
        }
      ]
    },
    {
      "cell_type": "code",
      "source": [
        "arr=[64,25,12,22,11]\n",
        "n=len(arr)\n",
        "for i in range(n):\n",
        "  max_idx=i\n",
        "  for j in range(i+1,n):\n",
        "    if arr[j]>arr[max_idx]:\n",
        "      max_idx=j\n",
        "\n",
        "  arr[i],arr[max_idx]=arr[max_idx],arr[i]\n",
        "\n"
      ],
      "metadata": {
        "id": "ylm7inUCB3KW"
      },
      "execution_count": 22,
      "outputs": []
    },
    {
      "cell_type": "code",
      "source": [
        "arr"
      ],
      "metadata": {
        "colab": {
          "base_uri": "https://localhost:8080/"
        },
        "id": "k0aPLzZmDAts",
        "outputId": "6c03062e-db20-4f00-85d6-e8009da879fc"
      },
      "execution_count": 23,
      "outputs": [
        {
          "output_type": "execute_result",
          "data": {
            "text/plain": [
              "[64, 25, 22, 12, 11]"
            ]
          },
          "metadata": {},
          "execution_count": 23
        }
      ]
    },
    {
      "cell_type": "code",
      "source": [
        "arr=[\"banana\",\"apple\",\"cherry\",\"date\"]\n",
        "n=len(arr)\n",
        "for i in range(n):\n",
        "  min_idx=i\n",
        "  for j in range(i+1,n):\n",
        "    if len(arr[min_idx])>len(arr[j]):\n",
        "      min_idx=j\n",
        "\n",
        "  arr[i],arr[min_idx]=arr[min_idx],arr[i]"
      ],
      "metadata": {
        "id": "QPyxcBsNDH0s"
      },
      "execution_count": 25,
      "outputs": []
    },
    {
      "cell_type": "code",
      "source": [
        "arr"
      ],
      "metadata": {
        "colab": {
          "base_uri": "https://localhost:8080/"
        },
        "id": "r9_eP4usFIug",
        "outputId": "bfe01dda-0ff3-4a03-e992-481173bfadc0"
      },
      "execution_count": 26,
      "outputs": [
        {
          "output_type": "execute_result",
          "data": {
            "text/plain": [
              "['date', 'apple', 'cherry', 'banana']"
            ]
          },
          "metadata": {},
          "execution_count": 26
        }
      ]
    },
    {
      "cell_type": "code",
      "source": [
        "def selection_sort(a):\n",
        "  for i in range(len(a)):\n",
        "    min_idx=i\n",
        "\n",
        "    for j in range(i+1,len(a)):\n",
        "      if a[min_idx]>a[j]:\n",
        "        min_idx=j\n",
        "\n",
        "    a[i],a[min_idx]=a[min_idx],a[i]\n",
        "\n",
        "  return a"
      ],
      "metadata": {
        "id": "110dPNBfFJqb"
      },
      "execution_count": 44,
      "outputs": []
    },
    {
      "cell_type": "code",
      "source": [
        "numbers = [34, 7, 23, 32, 5, 62, 11, 89, 45, 16, 27, 93, 54, 29, 2, 78, 12, 65, 39, 21]\n",
        "selection_sort(numbers)"
      ],
      "metadata": {
        "id": "bYuFqUM6G4wo",
        "outputId": "ba5c3286-cbf7-4ac6-d15c-1228d3892855",
        "colab": {
          "base_uri": "https://localhost:8080/"
        }
      },
      "execution_count": 47,
      "outputs": [
        {
          "output_type": "execute_result",
          "data": {
            "text/plain": [
              "[2, 5, 7, 11, 12, 16, 21, 23, 27, 29, 32, 34, 39, 45, 54, 62, 65, 78, 89, 93]"
            ]
          },
          "metadata": {},
          "execution_count": 47
        }
      ]
    },
    {
      "cell_type": "code",
      "source": [
        "str_list\n",
        ""
      ],
      "metadata": {
        "id": "HpdFiGlPG_We",
        "outputId": "ad0a5923-2a19-4f4f-f1bb-f7989b83d728",
        "colab": {
          "base_uri": "https://localhost:8080/"
        }
      },
      "execution_count": 48,
      "outputs": [
        {
          "output_type": "execute_result",
          "data": {
            "text/plain": [
              "['almond',\n",
              " 'apple',\n",
              " 'apricot',\n",
              " 'avocado',\n",
              " 'banana',\n",
              " 'blackberry',\n",
              " 'blackcurrant',\n",
              " 'blueberry',\n",
              " 'cantaloupe',\n",
              " 'cherry',\n",
              " 'coconut',\n",
              " 'cranberry',\n",
              " 'date',\n",
              " 'date_palm',\n",
              " 'dewberry',\n",
              " 'dragonfruit',\n",
              " 'edamame',\n",
              " 'eggplant',\n",
              " 'elderberry',\n",
              " 'elderflower',\n",
              " 'feijoa',\n",
              " 'fig',\n",
              " 'fig_leaf',\n",
              " 'fig_tree',\n",
              " 'ginger',\n",
              " 'grape',\n",
              " 'grapefruit',\n",
              " 'guava',\n",
              " 'hazelnut',\n",
              " 'honeycomb',\n",
              " 'honeydew',\n",
              " 'huckleberry',\n",
              " 'ice_plant',\n",
              " 'indian_fig',\n",
              " 'jackfruit',\n",
              " 'jujube',\n",
              " 'juniper',\n",
              " 'kale',\n",
              " 'kiwi',\n",
              " 'kiwifruit',\n",
              " 'kumquat',\n",
              " 'lemon',\n",
              " 'lemongrass',\n",
              " 'licorice',\n",
              " 'lime',\n",
              " 'mandarin',\n",
              " 'mango',\n",
              " 'melon',\n",
              " 'mulberry',\n",
              " 'navel_orange',\n",
              " 'nectar',\n",
              " 'nectarberry',\n",
              " 'nectarine',\n",
              " 'okra',\n",
              " 'olive',\n",
              " 'olive_tree',\n",
              " 'orange',\n",
              " 'papaya',\n",
              " 'peach',\n",
              " 'pearlfruit',\n",
              " 'persimmon',\n",
              " 'plum',\n",
              " 'quandong',\n",
              " 'quassia',\n",
              " 'quince',\n",
              " 'quinoa',\n",
              " 'radish',\n",
              " 'raspberry',\n",
              " 'rhubarb',\n",
              " 'roseapple',\n",
              " 'sapodilla',\n",
              " 'strawberry',\n",
              " 'strawberry_tree',\n",
              " 'sugar_apple',\n",
              " 'tangerine',\n",
              " 'tomatillo',\n",
              " 'tomato',\n",
              " 'turnip',\n",
              " 'ugli',\n",
              " 'ugli_fruit',\n",
              " 'ugli_melon',\n",
              " 'upland_cress',\n",
              " 'vanilla',\n",
              " 'vanilla_bean',\n",
              " 'vinegar',\n",
              " 'violet',\n",
              " 'walnut',\n",
              " 'walnut_tree',\n",
              " 'watermelon',\n",
              " 'wintermelon',\n",
              " 'xanthan',\n",
              " 'xigua',\n",
              " 'xmas_tree',\n",
              " 'xylocarp',\n",
              " 'yam',\n",
              " 'yam_bean',\n",
              " 'yellowfruit',\n",
              " 'yumberry',\n",
              " 'zest',\n",
              " 'zucchini',\n",
              " 'zucchini_blossom']"
            ]
          },
          "metadata": {},
          "execution_count": 48
        }
      ]
    },
    {
      "cell_type": "code",
      "source": [
        "def selectio_sort_str(a):\n",
        "  for i in range(len(a)):\n",
        "    min_idx=i\n",
        "    for j in range(i+1,len(a)):\n",
        "      if len(a[i])>len(a[j]):\n",
        "        min_idx=j\n",
        "\n",
        "    a[i],a[min_idx]=a[min_idx],a[i]\n",
        "\n",
        "  return(a)\n",
        "\n"
      ],
      "metadata": {
        "id": "sfSf_jrUJLAk"
      },
      "execution_count": 60,
      "outputs": []
    },
    {
      "cell_type": "code",
      "source": [
        "selectio_sort_str(str_list)"
      ],
      "metadata": {
        "id": "JHOEtgFYH8Rx",
        "outputId": "abae8d23-616b-40e9-fc50-270261c64f45",
        "colab": {
          "base_uri": "https://localhost:8080/"
        }
      },
      "execution_count": 61,
      "outputs": [
        {
          "output_type": "execute_result",
          "data": {
            "text/plain": [
              "['fig',\n",
              " 'yam',\n",
              " 'okra',\n",
              " 'kiwi',\n",
              " 'kale',\n",
              " 'date',\n",
              " 'mango',\n",
              " 'plum',\n",
              " 'zest',\n",
              " 'ugli',\n",
              " 'lime',\n",
              " 'guava',\n",
              " 'grape',\n",
              " 'melon',\n",
              " 'peach',\n",
              " 'apple',\n",
              " 'xigua',\n",
              " 'lemon',\n",
              " 'olive',\n",
              " 'radish',\n",
              " 'quince',\n",
              " 'quinoa',\n",
              " 'cherry',\n",
              " 'papaya',\n",
              " 'jujube',\n",
              " 'almond',\n",
              " 'turnip',\n",
              " 'nectar',\n",
              " 'feijoa',\n",
              " 'banana',\n",
              " 'ginger',\n",
              " 'tomato',\n",
              " 'walnut',\n",
              " 'violet',\n",
              " 'orange',\n",
              " 'coconut',\n",
              " 'avocado',\n",
              " 'apricot',\n",
              " 'quassia',\n",
              " 'rhubarb',\n",
              " 'kumquat',\n",
              " 'juniper',\n",
              " 'vinegar',\n",
              " 'vanilla',\n",
              " 'edamame',\n",
              " 'xanthan',\n",
              " 'eggplant',\n",
              " 'xylocarp',\n",
              " 'dewberry',\n",
              " 'hazelnut',\n",
              " 'yam_bean',\n",
              " 'fig_leaf',\n",
              " 'zucchini',\n",
              " 'licorice',\n",
              " 'mandarin',\n",
              " 'honeydew',\n",
              " 'mulberry',\n",
              " 'quandong',\n",
              " 'fig_tree',\n",
              " 'yumberry',\n",
              " 'tomatillo',\n",
              " 'sapodilla',\n",
              " 'nectarine',\n",
              " 'persimmon',\n",
              " 'roseapple',\n",
              " 'raspberry',\n",
              " 'jackfruit',\n",
              " 'xmas_tree',\n",
              " 'ice_plant',\n",
              " 'honeycomb',\n",
              " 'date_palm',\n",
              " 'kiwifruit',\n",
              " 'blueberry',\n",
              " 'tangerine',\n",
              " 'cranberry',\n",
              " 'olive_tree',\n",
              " 'strawberry',\n",
              " 'lemongrass',\n",
              " 'indian_fig',\n",
              " 'grapefruit',\n",
              " 'elderberry',\n",
              " 'pearlfruit',\n",
              " 'cantaloupe',\n",
              " 'watermelon',\n",
              " 'blackberry',\n",
              " 'ugli_melon',\n",
              " 'ugli_fruit',\n",
              " 'huckleberry',\n",
              " 'yellowfruit',\n",
              " 'elderflower',\n",
              " 'dragonfruit',\n",
              " 'wintermelon',\n",
              " 'walnut_tree',\n",
              " 'sugar_apple',\n",
              " 'nectarberry',\n",
              " 'blackcurrant',\n",
              " 'vanilla_bean',\n",
              " 'upland_cress',\n",
              " 'navel_orange',\n",
              " 'strawberry_tree',\n",
              " 'zucchini_blossom']"
            ]
          },
          "metadata": {},
          "execution_count": 61
        }
      ]
    },
    {
      "cell_type": "code",
      "source": [],
      "metadata": {
        "id": "jd9ZNlh_H-F4"
      },
      "execution_count": 58,
      "outputs": []
    },
    {
      "cell_type": "code",
      "source": [
        "str_list"
      ],
      "metadata": {
        "id": "vpb6FNDIM_G7",
        "outputId": "dd685d7b-228e-4bbf-c9bd-63f93340c6db",
        "colab": {
          "base_uri": "https://localhost:8080/"
        }
      },
      "execution_count": 59,
      "outputs": [
        {
          "output_type": "execute_result",
          "data": {
            "text/plain": [
              "['fig',\n",
              " 'yam',\n",
              " 'okra',\n",
              " 'kiwi',\n",
              " 'kale',\n",
              " 'date',\n",
              " 'quinoa',\n",
              " 'plum',\n",
              " 'guava',\n",
              " 'ugli',\n",
              " 'lime',\n",
              " 'zest',\n",
              " 'grape',\n",
              " 'melon',\n",
              " 'peach',\n",
              " 'quince',\n",
              " 'xigua',\n",
              " 'lemon',\n",
              " 'olive',\n",
              " 'radish',\n",
              " 'apple',\n",
              " 'mango',\n",
              " 'cherry',\n",
              " 'papaya',\n",
              " 'jujube',\n",
              " 'almond',\n",
              " 'turnip',\n",
              " 'nectar',\n",
              " 'feijoa',\n",
              " 'banana',\n",
              " 'ginger',\n",
              " 'tomato',\n",
              " 'walnut',\n",
              " 'violet',\n",
              " 'orange',\n",
              " 'coconut',\n",
              " 'avocado',\n",
              " 'apricot',\n",
              " 'quassia',\n",
              " 'rhubarb',\n",
              " 'kumquat',\n",
              " 'juniper',\n",
              " 'vinegar',\n",
              " 'vanilla',\n",
              " 'edamame',\n",
              " 'xanthan',\n",
              " 'eggplant',\n",
              " 'xylocarp',\n",
              " 'dewberry',\n",
              " 'hazelnut',\n",
              " 'yam_bean',\n",
              " 'fig_leaf',\n",
              " 'zucchini',\n",
              " 'licorice',\n",
              " 'mandarin',\n",
              " 'honeydew',\n",
              " 'mulberry',\n",
              " 'quandong',\n",
              " 'fig_tree',\n",
              " 'yumberry',\n",
              " 'tomatillo',\n",
              " 'sapodilla',\n",
              " 'nectarine',\n",
              " 'persimmon',\n",
              " 'roseapple',\n",
              " 'raspberry',\n",
              " 'jackfruit',\n",
              " 'xmas_tree',\n",
              " 'ice_plant',\n",
              " 'honeycomb',\n",
              " 'date_palm',\n",
              " 'kiwifruit',\n",
              " 'blueberry',\n",
              " 'tangerine',\n",
              " 'cranberry',\n",
              " 'olive_tree',\n",
              " 'strawberry',\n",
              " 'lemongrass',\n",
              " 'indian_fig',\n",
              " 'grapefruit',\n",
              " 'elderberry',\n",
              " 'pearlfruit',\n",
              " 'cantaloupe',\n",
              " 'watermelon',\n",
              " 'blackberry',\n",
              " 'ugli_melon',\n",
              " 'ugli_fruit',\n",
              " 'huckleberry',\n",
              " 'yellowfruit',\n",
              " 'elderflower',\n",
              " 'dragonfruit',\n",
              " 'wintermelon',\n",
              " 'walnut_tree',\n",
              " 'sugar_apple',\n",
              " 'nectarberry',\n",
              " 'blackcurrant',\n",
              " 'vanilla_bean',\n",
              " 'upland_cress',\n",
              " 'navel_orange',\n",
              " 'strawberry_tree',\n",
              " 'zucchini_blossom']"
            ]
          },
          "metadata": {},
          "execution_count": 59
        }
      ]
    },
    {
      "cell_type": "code",
      "source": [],
      "metadata": {
        "id": "iUsX6LAHNDSE"
      },
      "execution_count": null,
      "outputs": []
    },
    {
      "cell_type": "markdown",
      "source": [
        "# practice question on Buuble sort :\n",
        "1.Problem 1: Sort the following list using Bubble Sort:\n",
        "[12, 9, 4, 99, 120, 1, 3, 10]\n"
      ],
      "metadata": {
        "id": "QYCJ-HCRPsdL"
      }
    },
    {
      "cell_type": "code",
      "source": [
        "def bubsort(a):\n",
        "  n=len(a)\n",
        "  for i in range(n):\n",
        "    for j in range(0,n-1-i):\n",
        "      if a[j]>a[j+1]:\n",
        "\n",
        "        a[j],a[j+1]=a[j+1],a[j]\n",
        "\n",
        "  return(a)"
      ],
      "metadata": {
        "id": "ex1w6lYPP24H"
      },
      "execution_count": 62,
      "outputs": []
    },
    {
      "cell_type": "code",
      "source": [
        "arr=[12, 9, 4, 99, 120, 1, 3, 10]"
      ],
      "metadata": {
        "id": "bq0eM8WWQcJI"
      },
      "execution_count": 63,
      "outputs": []
    },
    {
      "cell_type": "code",
      "source": [
        "bubsort(arr)"
      ],
      "metadata": {
        "id": "74wIWmF_QgvP",
        "outputId": "8e6732b1-e2e0-4ebf-ec2c-165e15251add",
        "colab": {
          "base_uri": "https://localhost:8080/"
        }
      },
      "execution_count": 64,
      "outputs": [
        {
          "output_type": "execute_result",
          "data": {
            "text/plain": [
              "[1, 3, 4, 9, 10, 12, 99, 120]"
            ]
          },
          "metadata": {},
          "execution_count": 64
        }
      ]
    },
    {
      "cell_type": "code",
      "source": [],
      "metadata": {
        "id": "wGwdf3JkQitx"
      },
      "execution_count": null,
      "outputs": []
    },
    {
      "cell_type": "markdown",
      "source": [
        "# 2 Problem 2: Write a Python program to sort a list of strings in alphabetical order using Bubble Sort.\n",
        "Example list: [\"banana\", \"apple\", \"grape\", \"cherry\", \"mango\"]"
      ],
      "metadata": {
        "id": "BllbJf_EQmtX"
      }
    },
    {
      "cell_type": "code",
      "source": [
        "def bubstrsort(a):\n",
        "  n=len(a)\n",
        "  for i in range(n):\n",
        "    for j in range(0,n-1-i):\n",
        "\n",
        "      if a[j]<a[j+1]:\n",
        "        a[j],a[j+1]=a[j+1],a[j]\n",
        "\n",
        "  return a"
      ],
      "metadata": {
        "id": "diEFnMViQrJ4"
      },
      "execution_count": 69,
      "outputs": []
    },
    {
      "cell_type": "code",
      "source": [
        "a=[\"banana\", \"apple\", \"grape\", \"cherry\", \"mango\"]\n",
        "bubstrsort(a)"
      ],
      "metadata": {
        "id": "tfjnl-1zTzRy",
        "outputId": "eb74791d-7335-40ed-b13e-0138db75fc85",
        "colab": {
          "base_uri": "https://localhost:8080/"
        }
      },
      "execution_count": 70,
      "outputs": [
        {
          "output_type": "execute_result",
          "data": {
            "text/plain": [
              "['mango', 'grape', 'cherry', 'banana', 'apple']"
            ]
          },
          "metadata": {},
          "execution_count": 70
        }
      ]
    },
    {
      "cell_type": "code",
      "source": [
        "def bubstrsort(a):\n",
        "  n=len(a)\n",
        "  for i in range(n):\n",
        "    for j in range(0,n-1-i):\n",
        "\n",
        "      if a[j]>a[j+1]:\n",
        "        a[j],a[j+1]=a[j+1],a[j]\n",
        "\n",
        "  return a"
      ],
      "metadata": {
        "id": "ql2k9mL8T5Zb"
      },
      "execution_count": 71,
      "outputs": []
    },
    {
      "cell_type": "code",
      "source": [
        "bubstrsort(a)"
      ],
      "metadata": {
        "id": "rj10Vsf8UK1n",
        "outputId": "c85c51d3-fbd2-4f1e-831d-d6a6c144d018",
        "colab": {
          "base_uri": "https://localhost:8080/"
        }
      },
      "execution_count": 72,
      "outputs": [
        {
          "output_type": "execute_result",
          "data": {
            "text/plain": [
              "['apple', 'banana', 'cherry', 'grape', 'mango']"
            ]
          },
          "metadata": {},
          "execution_count": 72
        }
      ]
    },
    {
      "cell_type": "code",
      "source": [],
      "metadata": {
        "id": "J2o3J_vAUN83"
      },
      "execution_count": null,
      "outputs": []
    },
    {
      "cell_type": "markdown",
      "source": [
        "# Problem 3: Modify the Bubble Sort algorithm to sort a list in descending order. Test the algorithm with this list:\n",
        "[14, 33, 27, 35, 10, 90, 82, 1]"
      ],
      "metadata": {
        "id": "YWQSXxbbUamB"
      }
    },
    {
      "cell_type": "code",
      "source": [
        "def bubsort(b):\n",
        "  a=len(b)\n",
        "  for i in range(a):\n",
        "    for j in range(0,a-i-1):\n",
        "      if b[j]<b[j+1]:\n",
        "        b[j],b[j+1]=b[j+1],b[j]\n",
        "\n",
        "  return b\n"
      ],
      "metadata": {
        "id": "3i1zy27bUeFe"
      },
      "execution_count": 73,
      "outputs": []
    },
    {
      "cell_type": "code",
      "source": [
        "b=[14, 33, 27, 35, 10, 90, 82, 1]\n",
        "bubsort(b)"
      ],
      "metadata": {
        "id": "dpERNz5xVsEr",
        "outputId": "7dfe703e-78bf-4bcc-ddba-899fae518436",
        "colab": {
          "base_uri": "https://localhost:8080/"
        }
      },
      "execution_count": 75,
      "outputs": [
        {
          "output_type": "execute_result",
          "data": {
            "text/plain": [
              "[90, 82, 35, 33, 27, 14, 10, 1]"
            ]
          },
          "metadata": {},
          "execution_count": 75
        }
      ]
    },
    {
      "cell_type": "code",
      "source": [],
      "metadata": {
        "id": "ztnv8b6lVwDH"
      },
      "execution_count": null,
      "outputs": []
    },
    {
      "cell_type": "markdown",
      "source": [
        "#  4: Implement Bubble Sort to sort a list of floating-point numbers.\n",
        "Example list: [9.5, 2.7, 4.8, 1.2, 8.9, 3.3, 6.4]"
      ],
      "metadata": {
        "id": "nFB-o3t2V5jA"
      }
    },
    {
      "cell_type": "code",
      "source": [
        "c= [9.5, 2.7, 4.8, 1.2, 8.9, 3.3, 6.4]"
      ],
      "metadata": {
        "id": "1BbWh5NqWD65"
      },
      "execution_count": 76,
      "outputs": []
    },
    {
      "cell_type": "code",
      "source": [
        "bubsort(c)"
      ],
      "metadata": {
        "id": "q3ipnxtrWFRW",
        "outputId": "43fdecaf-6346-4ce0-9309-db65e1ee964e",
        "colab": {
          "base_uri": "https://localhost:8080/"
        }
      },
      "execution_count": 77,
      "outputs": [
        {
          "output_type": "execute_result",
          "data": {
            "text/plain": [
              "[9.5, 8.9, 6.4, 4.8, 3.3, 2.7, 1.2]"
            ]
          },
          "metadata": {},
          "execution_count": 77
        }
      ]
    },
    {
      "cell_type": "code",
      "source": [],
      "metadata": {
        "id": "YD_WjW4aWHfX"
      },
      "execution_count": 78,
      "outputs": []
    },
    {
      "cell_type": "markdown",
      "source": [
        "#Problem 5: Implement an optimized version of Bubble Sort that stops early if the list is already sorted. Test it with:\n",
        "[5, 1, 4, 2, 8]"
      ],
      "metadata": {
        "id": "Z7LAA1iPWiGf"
      }
    },
    {
      "cell_type": "code",
      "source": [
        "def bobsrt(a):\n",
        "  b=len(a)\n",
        "  for i in range(b):\n",
        "    for j in range(0,b-1-i):\n",
        "      if a[j]>a[j+1]:\n",
        "        a[j],a[j+1]=a[j+1],a[j]\n",
        "\n",
        "      else:\n",
        "          a[j],a[j+1] !=a[j+1],a[j]\n",
        "\n",
        "  return(a)\n"
      ],
      "metadata": {
        "id": "wAh_rbElWpPC"
      },
      "execution_count": 82,
      "outputs": []
    },
    {
      "cell_type": "code",
      "source": [
        "a=[5, 1, 4, 2, 8]\n",
        "bobsrt(a)"
      ],
      "metadata": {
        "id": "SzsTPifcaG8a",
        "outputId": "f3ccd14a-85c2-49aa-ceee-88824cb71e52",
        "colab": {
          "base_uri": "https://localhost:8080/"
        }
      },
      "execution_count": 83,
      "outputs": [
        {
          "output_type": "execute_result",
          "data": {
            "text/plain": [
              "[1, 2, 4, 5, 8]"
            ]
          },
          "metadata": {},
          "execution_count": 83
        }
      ]
    },
    {
      "cell_type": "code",
      "source": [
        "\n"
      ],
      "metadata": {
        "id": "SyQondMpaRUz"
      },
      "execution_count": null,
      "outputs": []
    },
    {
      "cell_type": "markdown",
      "source": [
        "# Problem 6: Sort an array of 10 random integers using Bubble Sort and count how many swaps are made during the process."
      ],
      "metadata": {
        "id": "cWdNzlkea3Cm"
      }
    },
    {
      "cell_type": "code",
      "source": [
        "import numpy as np\n"
      ],
      "metadata": {
        "id": "YS47obyRa5B6"
      },
      "execution_count": 84,
      "outputs": []
    },
    {
      "cell_type": "code",
      "source": [
        "a=np.random.randint(100,2221,10)"
      ],
      "metadata": {
        "id": "E193Sm9fbBoU"
      },
      "execution_count": 90,
      "outputs": []
    },
    {
      "cell_type": "code",
      "source": [
        "a"
      ],
      "metadata": {
        "id": "xtmG2euebF2q",
        "outputId": "887c85da-cd20-4466-fe4d-ab80c2af6356",
        "colab": {
          "base_uri": "https://localhost:8080/"
        }
      },
      "execution_count": 91,
      "outputs": [
        {
          "output_type": "execute_result",
          "data": {
            "text/plain": [
              "array([ 707, 2096,  219, 1066, 1586, 1933, 1133, 1290, 1032,  658])"
            ]
          },
          "metadata": {},
          "execution_count": 91
        }
      ]
    },
    {
      "cell_type": "code",
      "source": [
        "def babsrt(a):\n",
        "  count=0\n",
        "  b=len(a)\n",
        "  for i in range(b):\n",
        "    for j in range(0,b-1-i):\n",
        "      if a[j]>a[j+1]:\n",
        "        count +=1\n",
        "        a[j],a[j+1]=a[j+1],a[j]\n",
        "\n",
        "\n",
        "  return(a,count)\n"
      ],
      "metadata": {
        "id": "98X9sn09bGlY"
      },
      "execution_count": 92,
      "outputs": []
    },
    {
      "cell_type": "code",
      "source": [
        "babsrt(a)"
      ],
      "metadata": {
        "id": "uIdvyh6BcFRv",
        "outputId": "087359e3-6b12-4d2f-9ac2-515fd95f0c5e",
        "colab": {
          "base_uri": "https://localhost:8080/"
        }
      },
      "execution_count": 93,
      "outputs": [
        {
          "output_type": "execute_result",
          "data": {
            "text/plain": [
              "(array([ 219,  658,  707, 1032, 1066, 1133, 1290, 1586, 1933, 2096]), 25)"
            ]
          },
          "metadata": {},
          "execution_count": 93
        }
      ]
    },
    {
      "cell_type": "code",
      "source": [],
      "metadata": {
        "id": "J03YXXYicHfv"
      },
      "execution_count": 94,
      "outputs": []
    },
    {
      "cell_type": "code",
      "source": [
        "aaa=[14, 33, 27, 35, 10, 90, 82, 1]\n",
        "babsrtopt(aaa)"
      ],
      "metadata": {
        "id": "5I5-YQuBcdia",
        "outputId": "57a2dbca-49e7-47db-a506-df0510a2943d",
        "colab": {
          "base_uri": "https://localhost:8080/"
        }
      },
      "execution_count": 95,
      "outputs": [
        {
          "output_type": "execute_result",
          "data": {
            "text/plain": [
              "([1, 10, 14, 27, 33, 35, 82, 90], 13)"
            ]
          },
          "metadata": {},
          "execution_count": 95
        }
      ]
    },
    {
      "cell_type": "code",
      "source": [],
      "metadata": {
        "id": "bCpnkhm2cly8"
      },
      "execution_count": null,
      "outputs": []
    },
    {
      "cell_type": "markdown",
      "source": [
        "# Problem 7: Write a Bubble Sort algorithm to sort the following list of tuples based on the second element:\n",
        "[(1, 3), (2, 1), (3, 2)]"
      ],
      "metadata": {
        "id": "9UnRfBSPdGVk"
      }
    },
    {
      "cell_type": "code",
      "source": [
        "def bubtupsrt(a):\n",
        "  b=len(a)\n",
        "  for i in range(b):\n",
        "    for j in range(0,b-1-i):\n",
        "      if a[j][1]>a[j+1][1]:\n",
        "        a[j],a[j+1]=a[j+1],a[j]\n",
        "\n",
        "  return(a)"
      ],
      "metadata": {
        "id": "lPoMXS6odIdn"
      },
      "execution_count": 96,
      "outputs": []
    },
    {
      "cell_type": "code",
      "source": [
        "arr_tup=[(1, 3), (2, 1), (3, 2)]\n",
        "bubtupsrt(arr_tup)"
      ],
      "metadata": {
        "id": "OUH2dQnPd6s-",
        "outputId": "035cfa2e-8d1f-4c5d-e312-b27c90cbb869",
        "colab": {
          "base_uri": "https://localhost:8080/"
        }
      },
      "execution_count": 97,
      "outputs": [
        {
          "output_type": "execute_result",
          "data": {
            "text/plain": [
              "[(2, 1), (3, 2), (1, 3)]"
            ]
          },
          "metadata": {},
          "execution_count": 97
        }
      ]
    },
    {
      "cell_type": "code",
      "source": [],
      "metadata": {
        "id": "2vFwhmV9eCZC"
      },
      "execution_count": null,
      "outputs": []
    },
    {
      "cell_type": "markdown",
      "source": [
        "# Problem 8: Modify the Bubble Sort to sort a list of numbers in ascending order while counting the number of comparisons and swaps.\n",
        "Test list: [20, 5, 16, 8, 30, 3]"
      ],
      "metadata": {
        "id": "aDL9_RqhefcL"
      }
    },
    {
      "cell_type": "code",
      "source": [
        "def babalesrt(a):\n",
        "  com=0\n",
        "  sum_stp=0\n",
        "  b=len(a)\n",
        "  for i in range(b):\n",
        "    for j in range(0,b-1-i):\n",
        "      com +=1\n",
        "      if a[j]>a[j+1]:\n",
        "        sum_stp +=1\n",
        "        a[j],a[j+1]=a[j+1],a[j]\n",
        "\n",
        "  return(a,com,sum_stp)\n",
        ""
      ],
      "metadata": {
        "id": "ZWNknhVWegra"
      },
      "execution_count": 104,
      "outputs": []
    },
    {
      "cell_type": "code",
      "source": [
        "l1= [20, 5, 16, 8, 30, 3]\n",
        "babalesrt(l1)"
      ],
      "metadata": {
        "id": "3JyZsEoniVwx",
        "outputId": "7b551400-2295-45a8-a456-ba7f51892caa",
        "colab": {
          "base_uri": "https://localhost:8080/"
        }
      },
      "execution_count": 105,
      "outputs": [
        {
          "output_type": "execute_result",
          "data": {
            "text/plain": [
              "([3, 5, 8, 16, 20, 30], 15, 9)"
            ]
          },
          "metadata": {},
          "execution_count": 105
        }
      ]
    },
    {
      "cell_type": "code",
      "source": [],
      "metadata": {
        "id": "Eo8Q8Ou0ib5y"
      },
      "execution_count": null,
      "outputs": []
    },
    {
      "cell_type": "markdown",
      "source": [
        "# Problem 9: Write a program that sorts a list of exam scores using Bubble Sort. If two scores are equal, their order should not change (stable sorting). Example list:\n",
        "[85, 96, 75, 96, 62, 75, 99]"
      ],
      "metadata": {
        "id": "zTRccmdzjDIM"
      }
    },
    {
      "cell_type": "code",
      "source": [
        "l2=[85, 96, 75, 96, 62, 75, 99]"
      ],
      "metadata": {
        "id": "ZHE2MYfRjFWm"
      },
      "execution_count": 106,
      "outputs": []
    },
    {
      "cell_type": "code",
      "source": [],
      "metadata": {
        "id": "Bgd0uTS1jG0z"
      },
      "execution_count": null,
      "outputs": []
    },
    {
      "cell_type": "markdown",
      "source": [
        "# SELECTION SORT"
      ],
      "metadata": {
        "id": "WbD8YAbZkCMU"
      }
    },
    {
      "cell_type": "markdown",
      "source": [
        "##     Problem 1: Sort the following list using Selection Sort:\n",
        "[29, 10, 14, 37, 14]"
      ],
      "metadata": {
        "id": "0PIFnourjagt"
      }
    },
    {
      "cell_type": "markdown",
      "source": [],
      "metadata": {
        "id": "2IC52lCCj6RE"
      }
    },
    {
      "cell_type": "code",
      "source": [
        "l1=[29, 10, 14, 37, 14]\n",
        "def selsrt(a):\n",
        "\n",
        "  n=len(a)\n",
        "  for i in range(n):\n",
        "    min_inx=i\n",
        "    for j in range(1+i,n):\n",
        "      if a[min_inx]>a[j]:\n",
        "        min_inx=j\n",
        "    a[i],a[min_inx]=a[min_inx],a[i]\n",
        "\n",
        "  return(a)"
      ],
      "metadata": {
        "id": "QO4oWewDkdGQ"
      },
      "execution_count": 109,
      "outputs": []
    },
    {
      "cell_type": "code",
      "source": [
        "selsrt(l1)"
      ],
      "metadata": {
        "id": "Xpns7XuHlcOe",
        "outputId": "db1e3989-786e-4fa5-d0ed-92faa524b4fb",
        "colab": {
          "base_uri": "https://localhost:8080/"
        }
      },
      "execution_count": 110,
      "outputs": [
        {
          "output_type": "execute_result",
          "data": {
            "text/plain": [
              "[10, 14, 14, 29, 37]"
            ]
          },
          "metadata": {},
          "execution_count": 110
        }
      ]
    },
    {
      "cell_type": "code",
      "source": [],
      "metadata": {
        "id": "OEHgm4RFleIZ"
      },
      "execution_count": null,
      "outputs": []
    },
    {
      "cell_type": "markdown",
      "source": [
        "# Problem 2: Implement Selection Sort to sort a list of floating-point numbers. Example list:\n",
        "[9.5, 2.7, 4.8, 1.2, 8.9, 3.3, 6.4]"
      ],
      "metadata": {
        "id": "dExObwdylvrn"
      }
    },
    {
      "cell_type": "code",
      "source": [
        "l2=[9.5, 2.7, 4.8, 1.2, 8.9, 3.3, 6.4]\n",
        "selsrt(l2)"
      ],
      "metadata": {
        "id": "NrwjQR_Hl6iY",
        "outputId": "7e34b06d-7262-4eab-f3c6-98bea6d8ae81",
        "colab": {
          "base_uri": "https://localhost:8080/"
        }
      },
      "execution_count": 111,
      "outputs": [
        {
          "output_type": "execute_result",
          "data": {
            "text/plain": [
              "[1.2, 2.7, 3.3, 4.8, 6.4, 8.9, 9.5]"
            ]
          },
          "metadata": {},
          "execution_count": 111
        }
      ]
    },
    {
      "cell_type": "code",
      "source": [],
      "metadata": {
        "id": "A8RvD2yUmCKx"
      },
      "execution_count": null,
      "outputs": []
    },
    {
      "cell_type": "markdown",
      "source": [
        "# Problem 3: Modify the Selection Sort algorithm to sort a list in descending order. Test the algorithm with:\n",
        "[14, 33, 27, 35, 10, 90, 82, 1]"
      ],
      "metadata": {
        "id": "QWDMfvJAmEqa"
      }
    },
    {
      "cell_type": "code",
      "source": [
        "def selsrt(a):\n",
        "\n",
        "  n=len(a)\n",
        "  for i in range(n):\n",
        "    min_inx=i\n",
        "    for j in range(1+i,n):\n",
        "      if a[min_inx]<a[j]:\n",
        "        min_inx=j\n",
        "    a[i],a[min_inx]=a[min_inx],a[i]\n",
        "\n",
        "  return(a)"
      ],
      "metadata": {
        "id": "m1dPqJthmI1e"
      },
      "execution_count": 112,
      "outputs": []
    },
    {
      "cell_type": "code",
      "source": [
        "l4=[14, 33, 27, 35, 10, 90, 82, 1]\n",
        "selsrt(l4)"
      ],
      "metadata": {
        "id": "dZpcaYCun0a5",
        "outputId": "2f6d0cfb-4cea-449d-dd48-114a0bdfbd4f",
        "colab": {
          "base_uri": "https://localhost:8080/"
        }
      },
      "execution_count": 113,
      "outputs": [
        {
          "output_type": "execute_result",
          "data": {
            "text/plain": [
              "[90, 82, 35, 33, 27, 14, 10, 1]"
            ]
          },
          "metadata": {},
          "execution_count": 113
        }
      ]
    },
    {
      "cell_type": "code",
      "source": [],
      "metadata": {
        "id": "USWxoUW9n4zD"
      },
      "execution_count": null,
      "outputs": []
    },
    {
      "cell_type": "markdown",
      "source": [
        "# Problem 4: Write a program to sort a list of words in alphabetical order using Selection Sort.\n",
        "Example list: [\"zebra\", \"apple\", \"mango\", \"banana\", \"orange\"]"
      ],
      "metadata": {
        "id": "JbWI4mLen-u2"
      }
    },
    {
      "cell_type": "code",
      "source": [
        "l5= [\"zebra\", \"apple\", \"mango\", \"banana\", \"orange\"]\n",
        "selsrt(l5)"
      ],
      "metadata": {
        "id": "K823y6cHoAOH",
        "outputId": "9082cf2e-021f-41a8-fe24-640b1e8fb940",
        "colab": {
          "base_uri": "https://localhost:8080/"
        }
      },
      "execution_count": 114,
      "outputs": [
        {
          "output_type": "execute_result",
          "data": {
            "text/plain": [
              "['zebra', 'orange', 'mango', 'banana', 'apple']"
            ]
          },
          "metadata": {},
          "execution_count": 114
        }
      ]
    },
    {
      "cell_type": "code",
      "source": [
        "def selsrt(a):\n",
        "\n",
        "  n=len(a)\n",
        "  for i in range(n):\n",
        "    min_inx=i\n",
        "    for j in range(1+i,n):\n",
        "      if a[min_inx]>a[j]:\n",
        "        min_inx=j\n",
        "    a[i],a[min_inx]=a[min_inx],a[i]\n",
        "\n",
        "  return(a)"
      ],
      "metadata": {
        "id": "zz9b0l1aobOD"
      },
      "execution_count": 115,
      "outputs": []
    },
    {
      "cell_type": "code",
      "source": [
        "selsrt(l5)"
      ],
      "metadata": {
        "id": "NFfRvoRHohsC",
        "outputId": "08ab04d6-19ad-4ee2-f402-80b1f02f61f5",
        "colab": {
          "base_uri": "https://localhost:8080/"
        }
      },
      "execution_count": 116,
      "outputs": [
        {
          "output_type": "execute_result",
          "data": {
            "text/plain": [
              "['apple', 'banana', 'mango', 'orange', 'zebra']"
            ]
          },
          "metadata": {},
          "execution_count": 116
        }
      ]
    },
    {
      "cell_type": "code",
      "source": [],
      "metadata": {
        "id": "tfoxeGvWojVd"
      },
      "execution_count": null,
      "outputs": []
    },
    {
      "cell_type": "markdown",
      "source": [
        "# Problem 5: Use Selection Sort to sort a list of integers and count the number of comparisons made during sorting. Test list:\n",
        "[64, 25, 12, 22, 11]"
      ],
      "metadata": {
        "id": "gl1qypfnomfl"
      }
    },
    {
      "cell_type": "code",
      "source": [
        "def selsrt(a):\n",
        "  count=0\n",
        "\n",
        "  n=len(a)\n",
        "  for i in range(n):\n",
        "    min_inx=i\n",
        "    for j in range(1+i,n):\n",
        "      count +=1\n",
        "      if a[min_inx]>a[j]:\n",
        "        min_inx=j\n",
        "    a[i],a[min_inx]=a[min_inx],a[i]\n",
        "\n",
        "  return(a,count)"
      ],
      "metadata": {
        "id": "54YN62TzorL4"
      },
      "execution_count": 117,
      "outputs": []
    },
    {
      "cell_type": "code",
      "source": [
        "l6=[64, 25, 12, 22, 11]\n",
        "selsrt(l6)"
      ],
      "metadata": {
        "id": "n_EJZqY7pAKT",
        "outputId": "2b279be4-732c-47bf-d22f-2d48ae49e833",
        "colab": {
          "base_uri": "https://localhost:8080/"
        }
      },
      "execution_count": 118,
      "outputs": [
        {
          "output_type": "execute_result",
          "data": {
            "text/plain": [
              "([11, 12, 22, 25, 64], 10)"
            ]
          },
          "metadata": {},
          "execution_count": 118
        }
      ]
    },
    {
      "cell_type": "code",
      "source": [],
      "metadata": {
        "id": "lUK95-flpFBP"
      },
      "execution_count": null,
      "outputs": []
    },
    {
      "cell_type": "markdown",
      "source": [
        "# Problem 6: Write a Python program to sort a list of tuples based on the second element using Selection Sort.\n",
        "Example list: [(1, 3), (2, 1), (3, 2)]"
      ],
      "metadata": {
        "id": "rQfGXnk3pQOh"
      }
    },
    {
      "cell_type": "code",
      "source": [
        "def selsrt(a):\n",
        "  count=0\n",
        "\n",
        "  n=len(a)\n",
        "  for i in range(n):\n",
        "    min_inx=i\n",
        "    for j in range(1+i,n):\n",
        "\n",
        "      if a[min_inx][1]>a[j][1]:\n",
        "        min_inx=j\n",
        "    a[i],a[min_inx]=a[min_inx],a[i]\n",
        "\n",
        "  return(a)"
      ],
      "metadata": {
        "id": "LKguTY2gpUOu"
      },
      "execution_count": 119,
      "outputs": []
    },
    {
      "cell_type": "code",
      "source": [
        "l6= [(1, 3), (2, 1), (3, 2)]\n",
        "selsrt(l6)"
      ],
      "metadata": {
        "id": "ZVJxdHmnpdJS",
        "outputId": "fb631f95-e6f3-43f7-87db-0fa4148fe8bc",
        "colab": {
          "base_uri": "https://localhost:8080/"
        }
      },
      "execution_count": 120,
      "outputs": [
        {
          "output_type": "execute_result",
          "data": {
            "text/plain": [
              "[(2, 1), (3, 2), (1, 3)]"
            ]
          },
          "metadata": {},
          "execution_count": 120
        }
      ]
    },
    {
      "cell_type": "code",
      "source": [
        "!apt-get install git\n"
      ],
      "metadata": {
        "id": "Hj-WqHu8phW9",
        "outputId": "081584d2-c2c3-4943-f4ba-e94b322c3018",
        "colab": {
          "base_uri": "https://localhost:8080/"
        }
      },
      "execution_count": 121,
      "outputs": [
        {
          "output_type": "stream",
          "name": "stdout",
          "text": [
            "Reading package lists... Done\n",
            "Building dependency tree... Done\n",
            "Reading state information... Done\n",
            "git is already the newest version (1:2.34.1-1ubuntu1.11).\n",
            "0 upgraded, 0 newly installed, 0 to remove and 49 not upgraded.\n"
          ]
        }
      ]
    },
    {
      "cell_type": "code",
      "source": [
        "!git clone https://github.com/nasimakea/DSA.git"
      ],
      "metadata": {
        "id": "aPBF-N77r50O",
        "outputId": "abd1c5c8-e589-4485-b415-fc4d025f999f",
        "colab": {
          "base_uri": "https://localhost:8080/"
        }
      },
      "execution_count": 123,
      "outputs": [
        {
          "output_type": "stream",
          "name": "stdout",
          "text": [
            "Cloning into 'DSA'...\n",
            "warning: You appear to have cloned an empty repository.\n"
          ]
        }
      ]
    },
    {
      "cell_type": "code",
      "source": [
        "!git clone https://github.com/your-username/your-repo-name.git\n"
      ],
      "metadata": {
        "id": "02hY37sTsiZx"
      },
      "execution_count": null,
      "outputs": []
    },
    {
      "cell_type": "code",
      "source": [
        "!mv /content/DSA /content/DSA/\n"
      ],
      "metadata": {
        "id": "Er7-Dc2KtR0c",
        "outputId": "a5141e08-11ce-4f0f-fc84-05eb775ceb07",
        "colab": {
          "base_uri": "https://localhost:8080/"
        }
      },
      "execution_count": 124,
      "outputs": [
        {
          "output_type": "stream",
          "name": "stdout",
          "text": [
            "mv: cannot move '/content/DSA' to a subdirectory of itself, '/content/DSA/DSA'\n"
          ]
        }
      ]
    },
    {
      "cell_type": "code",
      "source": [
        "/content/DSA"
      ],
      "metadata": {
        "id": "9q8PcDh7tUC8"
      },
      "execution_count": null,
      "outputs": []
    }
  ]
}